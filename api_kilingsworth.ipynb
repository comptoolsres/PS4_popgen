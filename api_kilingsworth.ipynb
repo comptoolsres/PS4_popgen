{
 "cells": [
  {
   "cell_type": "code",
   "execution_count": null,
   "id": "bc969298-c384-4fc2-9eb1-24adbcdcec63",
   "metadata": {},
   "outputs": [
    {
     "name": "stdin",
     "output_type": "stream",
     "text": [
      "Enter a dog breed (or type 'done' to exit):  Maltese\n"
     ]
    },
    {
     "name": "stdout",
     "output_type": "stream",
     "text": [
      "Here is an image of a maltese: https://images.dog.ceo/breeds/maltese/n02085936_10307.jpg\n"
     ]
    }
   ],
   "source": [
    "import requests\n",
    "\n",
    "def get_breeds():\n",
    "    response = requests.get(\"https://dog.ceo/api/breeds/list/all\")\n",
    "    if response.status_code == 200:\n",
    "        breeds = response.json()[\"message\"]\n",
    "        return breeds\n",
    "    else:\n",
    "        return None\n",
    "\n",
    "def get_breed_image(breed):\n",
    "    response = requests.get(f\"https://dog.ceo/api/breed/{breed}/images/random\")\n",
    "    if response.status_code == 200:\n",
    "        image_url = response.json()[\"message\"]\n",
    "        return image_url\n",
    "    else:\n",
    "        return None\n",
    "\n",
    "def main():\n",
    "    breeds = get_breeds()\n",
    "    if not breeds:\n",
    "        print(\"Failed to retrieve breeds list.\")\n",
    "        return\n",
    "    \n",
    "    while True:\n",
    "        user_input = input(\"Enter a dog breed (or type 'done' to exit): \").lower()\n",
    "        \n",
    "        if user_input == \"done\":\n",
    "            break\n",
    "        \n",
    "        if user_input in breeds:\n",
    "            image_url = get_breed_image(user_input)\n",
    "            if image_url:\n",
    "                print(f\"Here is an image of a {user_input}: {image_url}\")\n",
    "            else:\n",
    "                print(\"Failed to retrieve image. Try again!\")\n",
    "        else:\n",
    "            print(\"Try again!\")\n",
    "\n",
    "if __name__ == \"__main__\":\n",
    "    main()"
   ]
  },
  {
   "cell_type": "code",
   "execution_count": null,
   "id": "347c77a5-5e12-4947-a5b0-215b838c5905",
   "metadata": {},
   "outputs": [],
   "source": []
  }
 ],
 "metadata": {
  "kernelspec": {
   "display_name": "UFRC Python-3.10",
   "language": "python",
   "name": "python3-3.10-ufrc"
  },
  "language_info": {
   "codemirror_mode": {
    "name": "ipython",
    "version": 3
   },
   "file_extension": ".py",
   "mimetype": "text/x-python",
   "name": "python",
   "nbconvert_exporter": "python",
   "pygments_lexer": "ipython3",
   "version": "3.10.8"
  }
 },
 "nbformat": 4,
 "nbformat_minor": 5
}
